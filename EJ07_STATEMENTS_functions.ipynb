{
  "cells": [
    {
      "cell_type": "markdown",
      "metadata": {
        "id": "view-in-github",
        "colab_type": "text"
      },
      "source": [
        "<a href=\"https://colab.research.google.com/github/jbinsaud/Master-_ITM/blob/main/EJ07_STATEMENTS_functions.ipynb\" target=\"_parent\"><img src=\"https://colab.research.google.com/assets/colab-badge.svg\" alt=\"Open In Colab\"/></a>"
      ]
    },
    {
      "cell_type": "markdown",
      "metadata": {
        "id": "oP2I_4gCBAFy"
      },
      "source": [
        "## Working with functions"
      ]
    },
    {
      "cell_type": "markdown",
      "metadata": {
        "id": "Opr28CNqBAF2"
      },
      "source": [
        "Create a function that receives a list of numeric values (positive and negative) and returns a second list of values greater than zero.\n",
        "with the values greater than zero"
      ]
    },
    {
      "cell_type": "code",
      "execution_count": null,
      "metadata": {
        "colab": {
          "base_uri": "https://localhost:8080/"
        },
        "id": "ZPQQ0p-xBAF3",
        "outputId": "e7b01e90-3d1c-42e7-ece3-3c5d1d95d387"
      },
      "outputs": [
        {
          "output_type": "stream",
          "name": "stdout",
          "text": [
            "[1, 2, 3, 5, 4]\n"
          ]
        }
      ],
      "source": [
        "list1 = [1,-1,2,3,-3,5,-7,4]\n",
        "list2=[]\n",
        "for i in list1:\n",
        "    if i>0:\n",
        "        list2.append(i)\n",
        "print(list2)"
      ]
    },
    {
      "cell_type": "code",
      "execution_count": null,
      "metadata": {
        "id": "D6IpGQU5BAF4"
      },
      "outputs": [],
      "source": [
        "def positive_values(v_list):\n",
        "    list2=[]\n",
        "    for i in v_list:\n",
        "        if i>0:\n",
        "            list2.append(i)\n",
        "    list2.sort()\n",
        "    return list2\n"
      ]
    },
    {
      "cell_type": "code",
      "source": [
        "lis1=[1,2,-3,-6,8,7]\n",
        "positive_values(lis1)"
      ],
      "metadata": {
        "colab": {
          "base_uri": "https://localhost:8080/"
        },
        "id": "P6CGRUW5DT9U",
        "outputId": "27a99ec8-1c25-43ba-bd76-2a22ac8d6062"
      },
      "execution_count": null,
      "outputs": [
        {
          "output_type": "execute_result",
          "data": {
            "text/plain": [
              "[1, 2, 7, 8]"
            ]
          },
          "metadata": {},
          "execution_count": 9
        }
      ]
    },
    {
      "cell_type": "markdown",
      "metadata": {
        "id": "Afk3DvNbBAF4"
      },
      "source": [
        "Create a function that receives a dictionary like the following:\n",
        "customer = {'cod_customer': 'A100', 'contract_type': 'A', 'invoice': 50}\n",
        "\n",
        "The contract_type field can take the values; 'A', 'B' or 'C' and the invoice is an integer greater than zero.\n",
        "The function must validate that if the contract_type is 'A' the invoice cannot be greater than 50.\n",
        "If the validation is true, return True, otherwise False (contract_type is 'A' and invoice > 50)."
      ]
    },
    {
      "cell_type": "code",
      "execution_count": null,
      "metadata": {
        "id": "QNjgv7-0BAF5"
      },
      "outputs": [],
      "source": []
    },
    {
      "cell_type": "code",
      "execution_count": null,
      "metadata": {
        "id": "u8SklFlgBAF5"
      },
      "outputs": [],
      "source": []
    },
    {
      "cell_type": "markdown",
      "metadata": {
        "id": "nyZbvew9BAF6"
      },
      "source": [
        "Create a function to validate with the above function the following list:\n",
        "customers = [   \n",
        "{'cod_customer': 'A100', 'contract_type': 'A', 'invoice': 51},  \n",
        "{'cod_customer': 'A100', 'contract_type': 'A', 'invoice': 22},  \n",
        "{'cod_customer': 'A100', 'contract_type': 'B', 'invoice': 71},  \n",
        "{'cod_customer': 'A100', 'contract_type': 'C', 'invoice': 51},  \n",
        "{'cod_customer': 'A100', 'contract_type': 'A', 'invoice': 61}  \n",
        "   ]   \n",
        "The result of each validation add it to each dictionary in a field named 'validation'."
      ]
    },
    {
      "cell_type": "code",
      "execution_count": null,
      "metadata": {
        "id": "BuR9l839BAF6"
      },
      "outputs": [],
      "source": []
    },
    {
      "cell_type": "code",
      "execution_count": null,
      "metadata": {
        "id": "KbTRmOHdBAF7"
      },
      "outputs": [],
      "source": []
    },
    {
      "cell_type": "code",
      "execution_count": null,
      "metadata": {
        "id": "cF_B-T0-BAF7"
      },
      "outputs": [],
      "source": []
    },
    {
      "cell_type": "code",
      "execution_count": null,
      "metadata": {
        "id": "lrVSkouOBAF7"
      },
      "outputs": [],
      "source": []
    }
  ],
  "metadata": {
    "kernelspec": {
      "display_name": "Python 3 (ipykernel)",
      "language": "python",
      "name": "python3"
    },
    "language_info": {
      "codemirror_mode": {
        "name": "ipython",
        "version": 3
      },
      "file_extension": ".py",
      "mimetype": "text/x-python",
      "name": "python",
      "nbconvert_exporter": "python",
      "pygments_lexer": "ipython3",
      "version": "3.10.9"
    },
    "colab": {
      "provenance": [],
      "include_colab_link": true
    }
  },
  "nbformat": 4,
  "nbformat_minor": 0
}